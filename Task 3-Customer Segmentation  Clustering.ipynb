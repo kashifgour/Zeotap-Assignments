{
 "cells": [
  {
   "cell_type": "code",
   "execution_count": 1,
   "id": "37d87aa4",
   "metadata": {},
   "outputs": [
    {
     "name": "stderr",
     "output_type": "stream",
     "text": [
      "C:\\Users\\Kashif ahmad\\anaconda3\\lib\\site-packages\\pandas\\core\\arrays\\masked.py:60: UserWarning: Pandas requires version '1.3.6' or newer of 'bottleneck' (version '1.3.5' currently installed).\n",
      "  from pandas.core import (\n"
     ]
    }
   ],
   "source": [
    "# Import necessary libraries\n",
    "import pandas as pd\n",
    "from sklearn.cluster import KMeans\n",
    "from sklearn.metrics import davies_bouldin_score\n",
    "from sklearn.preprocessing import StandardScaler\n",
    "import matplotlib.pyplot as plt\n",
    "import seaborn as sns"
   ]
  },
  {
   "cell_type": "code",
   "execution_count": 2,
   "id": "328c7b41",
   "metadata": {},
   "outputs": [],
   "source": [
    "transactions = pd.read_csv('transactions.csv')"
   ]
  },
  {
   "cell_type": "code",
   "execution_count": 3,
   "id": "0edc2bae",
   "metadata": {},
   "outputs": [],
   "source": [
    "products_data = {\n",
    "    'ProductID': ['P001', 'P002', 'P003', 'P004', 'P005'],\n",
    "    'ProductName': ['ActiveWear Biography', 'ActiveWear Smartwatch', 'ComfortLiving Biography',\n",
    "                    'BookWorld Rug', 'TechPro T-Shirt'],\n",
    "    'Category': ['Books', 'Electronics', 'Books', 'Home Decor', 'Clothing'],\n",
    "    'Price': [169.3, 346.3, 44.12, 95.69, 429.31]\n",
    "}"
   ]
  },
  {
   "cell_type": "code",
   "execution_count": 4,
   "id": "00601175",
   "metadata": {},
   "outputs": [],
   "source": [
    "products = pd.DataFrame(products_data)"
   ]
  },
  {
   "cell_type": "code",
   "execution_count": 5,
   "id": "10cc4ea4",
   "metadata": {},
   "outputs": [],
   "source": [
    "customers_data = {\n",
    "    'CustomerID': ['C0001', 'C0002', 'C0003', 'C0004', 'C0005'],\n",
    "    'CustomerName': ['Lawrence Carroll', 'Elizabeth Lutz', 'Michael Rivera', 'Kathleen Rodriguez', 'Laura Weber'],\n",
    "    'Region': ['South America', 'Asia', 'South America', 'South America', 'Asia'],\n",
    "    'SignupDate': ['2022-07-10', '2022-02-13', '2024-03-07', '2022-10-09', '2022-08-15']\n",
    "}"
   ]
  },
  {
   "cell_type": "code",
   "execution_count": 6,
   "id": "aedeb085",
   "metadata": {},
   "outputs": [],
   "source": [
    "customers = pd.DataFrame(customers_data)"
   ]
  },
  {
   "cell_type": "code",
   "execution_count": 7,
   "id": "3edf43b8",
   "metadata": {},
   "outputs": [],
   "source": [
    "# Merge datasets\n",
    "merged_data = transactions.merge(products, on='ProductID').merge(customers, on='CustomerID')\n"
   ]
  },
  {
   "cell_type": "markdown",
   "id": "56d6f416",
   "metadata": {},
   "source": [
    "# Feature engineering: Create customer-level aggregated data"
   ]
  },
  {
   "cell_type": "code",
   "execution_count": 8,
   "id": "550ae117",
   "metadata": {},
   "outputs": [],
   "source": [
    "customer_features = merged_data.groupby('CustomerID').agg(\n",
    "    total_transactions=('TransactionID', 'count'),\n",
    "    total_quantity=('Quantity', 'sum'),\n",
    "    total_revenue=('TotalValue', 'sum'),\n",
    "    avg_transaction_value=('TotalValue', 'mean')\n",
    ").reset_index()"
   ]
  },
  {
   "cell_type": "code",
   "execution_count": 9,
   "id": "2b287e23",
   "metadata": {},
   "outputs": [],
   "source": [
    "# One-hot encode regions\n",
    "region_dummies = pd.get_dummies(customers.set_index('CustomerID')['Region'])\n",
    "customer_features = customer_features.set_index('CustomerID').join(region_dummies)"
   ]
  },
  {
   "cell_type": "code",
   "execution_count": 10,
   "id": "e311cb4b",
   "metadata": {},
   "outputs": [],
   "source": [
    "# Normalize the feature data\n",
    "scaler = StandardScaler()\n",
    "normalized_features = scaler.fit_transform(customer_features)"
   ]
  },
  {
   "cell_type": "code",
   "execution_count": 25,
   "id": "26e861f1",
   "metadata": {},
   "outputs": [
    {
     "name": "stderr",
     "output_type": "stream",
     "text": [
      "C:\\Users\\Kashif ahmad\\anaconda3\\lib\\site-packages\\sklearn\\cluster\\_kmeans.py:870: FutureWarning: The default value of `n_init` will change from 10 to 'auto' in 1.4. Set the value of `n_init` explicitly to suppress the warning\n",
      "  warnings.warn(\n",
      "C:\\Users\\Kashif ahmad\\anaconda3\\lib\\site-packages\\sklearn\\cluster\\_kmeans.py:1382: UserWarning: KMeans is known to have a memory leak on Windows with MKL, when there are less chunks than available threads. You can avoid it by setting the environment variable OMP_NUM_THREADS=1.\n",
      "  warnings.warn(\n"
     ]
    }
   ],
   "source": [
    "# Perform clustering using KMeans\n",
    "num_clusters = 2\n",
    "kmeans = KMeans(n_clusters=num_clusters, random_state=42)\n",
    "clusters = kmeans.fit_predict(normalized_features)\n",
    "customer_features['Cluster'] = clusters"
   ]
  },
  {
   "cell_type": "code",
   "execution_count": 29,
   "id": "ce3cf96b",
   "metadata": {},
   "outputs": [
    {
     "data": {
      "text/plain": [
       "<Axes: >"
      ]
     },
     "execution_count": 29,
     "metadata": {},
     "output_type": "execute_result"
    },
    {
     "data": {
      "image/png": "[encoded data removed]",
      "text/plain": [
       "<Figure size 800x600 with 1 Axes>"
      ]
     },
     "metadata": {},
     "output_type": "display_data"
    }
   ],
   "source": [
    "# Visualize the clusters\n",
    "plt.figure(figsize=(8, 6))\n",
    "sns.scatterplot(\n",
    "    x=normalized_features[:, 0],\n",
    "    y=normalized_features[:, 1],\n",
    "    hue=clusters,\n",
    "    palette='viridis',\n",
    "    style=clusters,\n",
    "    legend='full'\n",
    ")"
   ]
  },
  {
   "cell_type": "code",
   "execution_count": 30,
   "id": "d75ea36b",
   "metadata": {},
   "outputs": [
    {
     "data": {
      "image/png": "[encoded data removed]",
      "text/plain": [
       "<Figure size 640x480 with 1 Axes>"
      ]
     },
     "metadata": {},
     "output_type": "display_data"
    }
   ],
   "source": [
    "plt.title(f'Customer Clusters (K={num_clusters})')\n",
    "plt.xlabel('Feature 1')\n",
    "plt.ylabel('Feature 2')\n",
    "plt.grid(True)\n",
    "plt.show()"
   ]
  },
  {
   "cell_type": "code",
   "execution_count": 31,
   "id": "3044c659",
   "metadata": {},
   "outputs": [],
   "source": [
    "# Save clustering results\n",
    "customer_features.reset_index()[['CustomerID', 'Cluster']].to_csv('Customer_Clusters.csv', index=False)"
   ]
  },
  {
   "cell_type": "code",
   "execution_count": 32,
   "id": "f5c72f95",
   "metadata": {},
   "outputs": [
    {
     "name": "stdout",
     "output_type": "stream",
     "text": [
      "\n",
      "Summary of Clustering:\n",
      "         num_customers  avg_revenue  avg_quantity\n",
      "Cluster                                          \n",
      "0                    1       382.76           4.0\n",
      "1                    1      1385.20           4.0\n"
     ]
    }
   ],
   "source": [
    "# Summary of Clustering\n",
    "print(\"\\nSummary of Clustering:\")\n",
    "print(customer_features.groupby('Cluster').agg(\n",
    "    num_customers=('total_transactions', 'count'),\n",
    "    avg_revenue=('total_revenue', 'mean'),\n",
    "    avg_quantity=('total_quantity', 'mean')\n",
    "))"
   ]
  },
  {
   "cell_type": "code",
   "execution_count": null,
   "id": "d3b8a8f5",
   "metadata": {},
   "outputs": [],
   "source": []
  }
 ],
 "metadata": {
  "kernelspec": {
   "display_name": "Python 3 (ipykernel)",
   "language": "python",
   "name": "python3"
  },
  "language_info": {
   "codemirror_mode": {
    "name": "ipython",
    "version": 3
   },
   "file_extension": ".py",
   "mimetype": "text/x-python",
   "name": "python",
   "nbconvert_exporter": "python",
   "pygments_lexer": "ipython3",
   "version": "3.10.9"
  }
 },
 "nbformat": 4,
 "nbformat_minor": 5
}
