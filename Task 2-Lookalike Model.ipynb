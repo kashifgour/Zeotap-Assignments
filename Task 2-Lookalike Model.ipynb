{
 "cells": [
  {
   "cell_type": "markdown",
   "id": "2dd4264b",
   "metadata": {},
   "source": [
    "# Import necessary libraries"
   ]
  },
  {
   "cell_type": "code",
   "execution_count": 1,
   "id": "8baf6831",
   "metadata": {},
   "outputs": [
    {
     "name": "stderr",
     "output_type": "stream",
     "text": [
      "C:\\Users\\Kashif ahmad\\anaconda3\\lib\\site-packages\\pandas\\core\\arrays\\masked.py:60: UserWarning: Pandas requires version '1.3.6' or newer of 'bottleneck' (version '1.3.5' currently installed).\n",
      "  from pandas.core import (\n"
     ]
    }
   ],
   "source": [
    "import pandas as pd\n",
    "from sklearn.metrics.pairwise import cosine_similarity\n",
    "from sklearn.preprocessing import StandardScaler"
   ]
  },
  {
   "cell_type": "markdown",
   "id": "a681ce52",
   "metadata": {},
   "source": [
    "# Load datasets"
   ]
  },
  {
   "cell_type": "code",
   "execution_count": 2,
   "id": "0acd64b2",
   "metadata": {},
   "outputs": [],
   "source": [
    "transactions = pd.read_csv('transactions.csv')"
   ]
  },
  {
   "cell_type": "code",
   "execution_count": 3,
   "id": "b7080b93",
   "metadata": {},
   "outputs": [],
   "source": [
    "products_data = {\n",
    "    'ProductID': ['P001', 'P002', 'P003', 'P004', 'P005'],\n",
    "    'ProductName': ['ActiveWear Biography', 'ActiveWear Smartwatch', 'ComfortLiving Biography',\n",
    "                    'BookWorld Rug', 'TechPro T-Shirt'],\n",
    "    'Category': ['Books', 'Electronics', 'Books', 'Home Decor', 'Clothing'],\n",
    "    'Price': [169.3, 346.3, 44.12, 95.69, 429.31]\n",
    "}"
   ]
  },
  {
   "cell_type": "code",
   "execution_count": 4,
   "id": "31cd2093",
   "metadata": {},
   "outputs": [],
   "source": [
    "products = pd.DataFrame(products_data)"
   ]
  },
  {
   "cell_type": "code",
   "execution_count": 5,
   "id": "d5db2074",
   "metadata": {},
   "outputs": [],
   "source": [
    "customers_data = {\n",
    "    'CustomerID': ['C0001', 'C0002', 'C0003', 'C0004', 'C0005'],\n",
    "    'CustomerName': ['Lawrence Carroll', 'Elizabeth Lutz', 'Michael Rivera', 'Kathleen Rodriguez', 'Laura Weber'],\n",
    "    'Region': ['South America', 'Asia', 'South America', 'South America', 'Asia'],\n",
    "    'SignupDate': ['2022-07-10', '2022-02-13', '2024-03-07', '2022-10-09', '2022-08-15']\n",
    "}"
   ]
  },
  {
   "cell_type": "code",
   "execution_count": 6,
   "id": "519fb029",
   "metadata": {},
   "outputs": [],
   "source": [
    "customers = pd.DataFrame(customers_data)"
   ]
  },
  {
   "cell_type": "markdown",
   "id": "24dfc27e",
   "metadata": {},
   "source": [
    "# Merge datasets"
   ]
  },
  {
   "cell_type": "code",
   "execution_count": 7,
   "id": "05abcd1a",
   "metadata": {},
   "outputs": [],
   "source": [
    "merged_data = transactions.merge(products, on='ProductID').merge(customers, on='CustomerID')"
   ]
  },
  {
   "cell_type": "markdown",
   "id": "b9716f60",
   "metadata": {},
   "source": [
    "# Feature engineering: Create customer-level aggregated data"
   ]
  },
  {
   "cell_type": "code",
   "execution_count": 8,
   "id": "3feeb271",
   "metadata": {},
   "outputs": [],
   "source": [
    "customer_features = merged_data.groupby('CustomerID').agg(\n",
    "    total_transactions=('TransactionID', 'count'),\n",
    "    total_quantity=('Quantity', 'sum'),\n",
    "    total_revenue=('TotalValue', 'sum'),\n",
    "    avg_transaction_value=('TotalValue', 'mean')\n",
    ").reset_index()"
   ]
  },
  {
   "cell_type": "markdown",
   "id": "99c9738d",
   "metadata": {},
   "source": [
    "# One-hot encode regions and categories"
   ]
  },
  {
   "cell_type": "code",
   "execution_count": 9,
   "id": "c9d03e5c",
   "metadata": {},
   "outputs": [],
   "source": [
    "region_dummies = pd.get_dummies(customers.set_index('CustomerID')['Region'])\n",
    "customer_features = customer_features.set_index('CustomerID').join(region_dummies)"
   ]
  },
  {
   "cell_type": "markdown",
   "id": "11ab0d82",
   "metadata": {},
   "source": [
    "# Normalize the feature data"
   ]
  },
  {
   "cell_type": "code",
   "execution_count": 10,
   "id": "a92371c4",
   "metadata": {},
   "outputs": [],
   "source": [
    "scaler = StandardScaler()\n",
    "normalized_features = scaler.fit_transform(customer_features.drop(columns=['total_transactions', 'total_quantity', 'total_revenue', 'avg_transaction_value']))"
   ]
  },
  {
   "cell_type": "markdown",
   "id": "530672ca",
   "metadata": {},
   "source": [
    "# Compute similarity scores"
   ]
  },
  {
   "cell_type": "code",
   "execution_count": 11,
   "id": "cd23c947",
   "metadata": {},
   "outputs": [],
   "source": [
    "similarity_matrix = cosine_similarity(normalized_features)"
   ]
  },
  {
   "cell_type": "markdown",
   "id": "88f74159",
   "metadata": {},
   "source": [
    "# Build the lookalike model"
   ]
  },
  {
   "cell_type": "code",
   "execution_count": 14,
   "id": "463387a2",
   "metadata": {},
   "outputs": [],
   "source": [
    "lookalike_map = {}\n",
    "customer_ids = customer_features.index.tolist()\n",
    "for idx, customer_id in enumerate(customer_ids):\n",
    "    # Get similarity scores for the current customer\n",
    "    similarities = list(enumerate(similarity_matrix[idx]))\n",
    "    # Exclude the customer itself and sort by similarity score\n",
    "    similarities = sorted([(customer_ids[i], score) for i, score in similarities if customer_ids[i] != customer_id], \n",
    "                          key=lambda x: x[1], reverse=True)\n",
    "    # Get the top 3 similar customers\n",
    "    lookalike_map[customer_id] = similarities[:3]"
   ]
  },
  {
   "cell_type": "code",
   "execution_count": 15,
   "id": "ba60bc3e",
   "metadata": {},
   "outputs": [],
   "source": [
    "# Create Lookalike.csv\n",
    "lookalike_df = pd.DataFrame([\n",
    "    {\n",
    "        'CustomerID': customer_id,\n",
    "        'Lookalikes': [{\"CustomerID\": sim[0], \"Score\": sim[1]} for sim in lookalikes]\n",
    "    }\n",
    "    for customer_id, lookalikes in lookalike_map.items()\n",
    "])\n",
    "lookalike_df.to_csv('Lookalike.csv', index=False)"
   ]
  },
  {
   "cell_type": "markdown",
   "id": "d0c51643",
   "metadata": {},
   "source": [
    "# Display a preview of the lookalike map\n"
   ]
  },
  {
   "cell_type": "code",
   "execution_count": 16,
   "id": "5bab42f6",
   "metadata": {},
   "outputs": [
    {
     "name": "stdout",
     "output_type": "stream",
     "text": [
      "  CustomerID                                         Lookalikes\n",
      "0      C0002  [{'CustomerID': 'C0003', 'Score': -0.999999999...\n",
      "1      C0003  [{'CustomerID': 'C0002', 'Score': -0.999999999...\n"
     ]
    }
   ],
   "source": [
    "print(lookalike_df.head())"
   ]
  },
  {
   "cell_type": "code",
   "execution_count": 17,
   "id": "45d32b8d",
   "metadata": {},
   "outputs": [
    {
     "name": "stdout",
     "output_type": "stream",
     "text": [
      "\n",
      "Verifying similarity scores range (0 to 1):\n",
      "Minimum similarity: -1.0000\n",
      "Maximum similarity: -1.0000\n"
     ]
    }
   ],
   "source": [
    "# Evaluate the model\n",
    "## Verify similarity scores range\n",
    "print(\"\\nVerifying similarity scores range (0 to 1):\")\n",
    "similarity_values = [sim[1] for sims in lookalike_map.values() for sim in sims]\n",
    "print(f\"Minimum similarity: {min(similarity_values):.4f}\")\n",
    "print(f\"Maximum similarity: {max(similarity_values):.4f}\")"
   ]
  },
  {
   "cell_type": "code",
   "execution_count": 19,
   "id": "9ea422ce",
   "metadata": {},
   "outputs": [
    {
     "name": "stdout",
     "output_type": "stream",
     "text": [
      "\n",
      "Diversity check in recommendations:\n",
      "Total unique customers recommended: 2\n",
      "Total recommendations made: 2\n"
     ]
    }
   ],
   "source": [
    "## Diversity check\n",
    "print(\"\\nDiversity check in recommendations:\")\n",
    "recommended_customers = [sim[0] for sims in lookalike_map.values() for sim in sims]\n",
    "unique_recommendations = len(set(recommended_customers))\n",
    "print(f\"Total unique customers recommended: {unique_recommendations}\")\n",
    "print(f\"Total recommendations made: {len(recommended_customers)}\")"
   ]
  },
  {
   "cell_type": "code",
   "execution_count": null,
   "id": "f3f8dbea",
   "metadata": {},
   "outputs": [],
   "source": []
  }
 ],
 "metadata": {
  "kernelspec": {
   "display_name": "Python 3 (ipykernel)",
   "language": "python",
   "name": "python3"
  },
  "language_info": {
   "codemirror_mode": {
    "name": "ipython",
    "version": 3
   },
   "file_extension": ".py",
   "mimetype": "text/x-python",
   "name": "python",
   "nbconvert_exporter": "python",
   "pygments_lexer": "ipython3",
   "version": "3.10.9"
  }
 },
 "nbformat": 4,
 "nbformat_minor": 5
}
